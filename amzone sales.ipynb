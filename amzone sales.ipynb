{
 "cells": [
  {
   "cell_type": "code",
   "execution_count": null,
   "id": "c742800a-9a5a-4a37-a42a-bfc4b4b709ef",
   "metadata": {},
   "outputs": [],
   "source": [
    "pip install pandas"
   ]
  },
  {
   "cell_type": "code",
   "execution_count": null,
   "id": "06c42382-6b6b-4641-afd6-aa285d48a786",
   "metadata": {},
   "outputs": [],
   "source": [
    "pip install numpy"
   ]
  },
  {
   "cell_type": "code",
   "execution_count": null,
   "id": "7ad9b382-9054-4062-af0e-95bb76dfcff4",
   "metadata": {},
   "outputs": [],
   "source": [
    "pip install seaborn"
   ]
  },
  {
   "cell_type": "code",
   "execution_count": null,
   "id": "0ba5e455-faf8-4eee-a4d0-e1ae9bb53242",
   "metadata": {},
   "outputs": [],
   "source": [
    "pip install matplotlib"
   ]
  },
  {
   "cell_type": "raw",
   "id": "3088c20f-100a-4cd4-9f6a-16542add3993",
   "metadata": {},
   "source": [
    "Data analyst project on amazone sales"
   ]
  },
  {
   "cell_type": "code",
   "execution_count": null,
   "id": "dd880598-7614-4b2d-bda8-fe7f821da896",
   "metadata": {},
   "outputs": [],
   "source": [
    "import pandas as pd\n",
    "import numpy as np\n",
    "import seaborn as sns\n",
    "import matplotlib.pyplot as plt\n",
    "%matplotlib inline"
   ]
  },
  {
   "cell_type": "code",
   "execution_count": null,
   "id": "6e9d588c-c652-42a1-88ec-3d89d2dbea37",
   "metadata": {},
   "outputs": [],
   "source": [
    "df=pd.read_csv(r'C:\\Users\\Dell\\Documents\\Python_Amazon_Sales_Analysis-main\\Amazon Sale Report.csv')"
   ]
  },
  {
   "cell_type": "code",
   "execution_count": null,
   "id": "86fe78de-b69b-419e-8e37-8916d2e9076c",
   "metadata": {},
   "outputs": [],
   "source": [
    "print(df)"
   ]
  },
  {
   "cell_type": "code",
   "execution_count": null,
   "id": "d0108f2a-b7cb-4a30-a0bd-f4244db4bb2c",
   "metadata": {},
   "outputs": [],
   "source": [
    "df.shape"
   ]
  },
  {
   "cell_type": "code",
   "execution_count": null,
   "id": "d6fcf8c3-7637-42a5-957f-851722890c9c",
   "metadata": {},
   "outputs": [],
   "source": [
    "df.head"
   ]
  },
  {
   "cell_type": "code",
   "execution_count": null,
   "id": "1432572f-0545-4afd-9603-d129669911f2",
   "metadata": {},
   "outputs": [],
   "source": [
    "df.head(3)"
   ]
  },
  {
   "cell_type": "code",
   "execution_count": null,
   "id": "dcbceb57-f693-432f-8192-f827db56b9bb",
   "metadata": {},
   "outputs": [],
   "source": [
    "df.tail"
   ]
  },
  {
   "cell_type": "code",
   "execution_count": null,
   "id": "59a3c87d-1aeb-4725-81f8-ee736b2aabcb",
   "metadata": {},
   "outputs": [],
   "source": [
    "df.tail(3)"
   ]
  },
  {
   "cell_type": "code",
   "execution_count": null,
   "id": "ab2209ab-7b76-4f33-8edd-4bfb1e68c0c4",
   "metadata": {},
   "outputs": [],
   "source": [
    "df.info()"
   ]
  },
  {
   "cell_type": "code",
   "execution_count": null,
   "id": "26211e2e-4501-4c69-9609-a9cf1b04f54d",
   "metadata": {},
   "outputs": [],
   "source": [
    "df.drop(['New','PendingS'],axis=1,inplace=True)"
   ]
  },
  {
   "cell_type": "code",
   "execution_count": null,
   "id": "9c157d2d-ac3b-40ef-8174-5f651ba2fdbc",
   "metadata": {},
   "outputs": [],
   "source": [
    "df.info()"
   ]
  },
  {
   "cell_type": "code",
   "execution_count": null,
   "id": "543ed45c-f772-4817-970d-4c6989a20130",
   "metadata": {},
   "outputs": [],
   "source": [
    "pd.isnull(df)"
   ]
  },
  {
   "cell_type": "code",
   "execution_count": null,
   "id": "278ff48a-62c7-4809-985d-c05eea618f1d",
   "metadata": {},
   "outputs": [],
   "source": [
    "pd.isnull(df).sum()"
   ]
  },
  {
   "cell_type": "code",
   "execution_count": null,
   "id": "992619db-0968-4a48-9f3a-eddef3d863a1",
   "metadata": {},
   "outputs": [],
   "source": [
    "df.shape"
   ]
  },
  {
   "cell_type": "code",
   "execution_count": null,
   "id": "1b2759c1-8e35-4cf0-8e25-df37e10b6cb3",
   "metadata": {},
   "outputs": [],
   "source": [
    "df.dropna(inplace=True)"
   ]
  },
  {
   "cell_type": "code",
   "execution_count": null,
   "id": "d99896cb-89e6-4df7-928e-d436b2d8fedf",
   "metadata": {},
   "outputs": [],
   "source": [
    "df.shape"
   ]
  },
  {
   "cell_type": "code",
   "execution_count": null,
   "id": "542b93d4-c8c3-47cd-9f12-e336285d6a05",
   "metadata": {},
   "outputs": [],
   "source": [
    "df.columns"
   ]
  },
  {
   "cell_type": "code",
   "execution_count": null,
   "id": "64eee982-fa68-4f95-8be9-90c7826542b7",
   "metadata": {},
   "outputs": [],
   "source": [
    "df['ship-postal-code']=df['ship-postal-code'].astype('int')  "
   ]
  },
  {
   "cell_type": "code",
   "execution_count": null,
   "id": "d6796d0f-daa9-4d22-94a4-2d85f10d91ee",
   "metadata": {},
   "outputs": [],
   "source": [
    "df['ship-postal-code'].dtype"
   ]
  },
  {
   "cell_type": "code",
   "execution_count": null,
   "id": "1ad6cf0a-6bd8-4170-8517-4974abd41c03",
   "metadata": {},
   "outputs": [],
   "source": [
    "df.info()"
   ]
  },
  {
   "cell_type": "code",
   "execution_count": null,
   "id": "b267e558-becf-41ad-9825-cde9ddf9ce95",
   "metadata": {},
   "outputs": [],
   "source": [
    "df.columns"
   ]
  },
  {
   "cell_type": "code",
   "execution_count": null,
   "id": "e38ebae6-5fcb-4e00-a7fa-675734804cdd",
   "metadata": {},
   "outputs": [],
   "source": [
    "df.rename(columns={'Amount':'Amt','Qty':'Quantity'})"
   ]
  },
  {
   "cell_type": "code",
   "execution_count": null,
   "id": "5e7b8ef0-1d67-4121-947a-b8b306ec202f",
   "metadata": {},
   "outputs": [],
   "source": [
    "df.describe()"
   ]
  },
  {
   "cell_type": "code",
   "execution_count": null,
   "id": "f9b544f3-edf6-4d08-aff6-7b0f1eda00d8",
   "metadata": {},
   "outputs": [],
   "source": [
    "df.describe(include='object')"
   ]
  },
  {
   "cell_type": "code",
   "execution_count": null,
   "id": "bdba4fe1-d908-42ff-b603-1d1a544621ec",
   "metadata": {},
   "outputs": [],
   "source": [
    "df[['Qty']].describe()"
   ]
  },
  {
   "cell_type": "code",
   "execution_count": null,
   "id": "c7412469-a7b7-48c2-80b7-a5ef4b5ea7e6",
   "metadata": {},
   "outputs": [],
   "source": [
    "visualisation of data-analyst"
   ]
  },
  {
   "cell_type": "code",
   "execution_count": null,
   "id": "f56ecb7a-d945-421b-aade-e51b6f2d9650",
   "metadata": {},
   "outputs": [],
   "source": [
    "df.columns"
   ]
  },
  {
   "cell_type": "code",
   "execution_count": null,
   "id": "18881d93-f7d0-4fe9-899a-e7750a4fa76f",
   "metadata": {},
   "outputs": [],
   "source": [
    "ax=sns.countplot(x='Size',data=df)"
   ]
  },
  {
   "cell_type": "code",
   "execution_count": null,
   "id": "4ea77378-ec1a-41ef-851d-65d4f199e6e9",
   "metadata": {},
   "outputs": [],
   "source": [
    "ax=sns.countplot(x='Size',data=df)\n",
    "for bars in ax.containers:\n",
    " ax.bar_label(bars)"
   ]
  },
  {
   "cell_type": "code",
   "execution_count": null,
   "id": "4f2b9c1a-5563-44a2-abbf-78027e33ed84",
   "metadata": {},
   "outputs": [],
   "source": [
    "Size_Check=df['Size'].value_counts()\n",
    "plt.pie(Size_Check, labels=Size_Check,autopct='%1.1f%%')\n",
    "plt.show()"
   ]
  },
  {
   "cell_type": "raw",
   "id": "de8ea4dd-d0ef-433c-9f1c-1b1e0260517b",
   "metadata": {},
   "source": [
    "Group by"
   ]
  },
  {
   "cell_type": "code",
   "execution_count": null,
   "id": "5fc8b898-b3d8-4018-92f9-3c4a2eb76c73",
   "metadata": {},
   "outputs": [],
   "source": [
    "df.groupby(['Size'],as_index=False)['Qty'].sum().sort_values(by='Qty',ascending=False)"
   ]
  },
  {
   "cell_type": "code",
   "execution_count": null,
   "id": "5138d692-27c0-492f-b06f-1e21f6af7f8f",
   "metadata": {},
   "outputs": [],
   "source": [
    "S_Qty=df.groupby(['Size'],as_index=False)['Qty'].sum().sort_values(by='Qty',ascending=False)\n",
    "sns.barplot(x='Size',y='Qty',data=S_Qty)"
   ]
  },
  {
   "cell_type": "code",
   "execution_count": null,
   "id": "90ed4fd9-7407-4cad-a566-f658903e8673",
   "metadata": {},
   "outputs": [],
   "source": [
    "courier status"
   ]
  },
  {
   "cell_type": "code",
   "execution_count": null,
   "id": "f6be21cc-f170-4672-bb51-e17680f72ff5",
   "metadata": {},
   "outputs": [],
   "source": [
    "sns.countplot(data=df,x='Courier Status',hue='Status')"
   ]
  },
  {
   "cell_type": "code",
   "execution_count": null,
   "id": "73de76ea-4ce5-42d7-b054-13ed535e2fab",
   "metadata": {},
   "outputs": [],
   "source": [
    "plt.figure(figsize=(10,5))\n",
    "ax=sns.countplot(data=df,x='Courier Status',hue='Status')\n",
    "plt.show()"
   ]
  },
  {
   "cell_type": "code",
   "execution_count": null,
   "id": "a0eb0db9-e6ed-4af2-8f9e-183621b68d67",
   "metadata": {},
   "outputs": [],
   "source": [
    "df['Size'].hist()"
   ]
  },
  {
   "cell_type": "code",
   "execution_count": null,
   "id": "5b78c970-e5ce-49de-aba5-6ae604eea071",
   "metadata": {},
   "outputs": [],
   "source": [
    "df['Category']=df['Category'].astype(str)\n",
    "column_data=df['Category']\n",
    "plt.figure(figsize=(10,5))\n",
    "plt.hist(column_data,bins=30,edgecolor='Red')\n",
    "plt.xticks(rotation=90)\n",
    "plt.show()"
   ]
  },
  {
   "cell_type": "code",
   "execution_count": null,
   "id": "83bb4911-2125-4453-8fd7-79b554ce41fd",
   "metadata": {},
   "outputs": [],
   "source": [
    "B2B_Check=df['B2B'].value_counts()\n",
    "plt.pie(B2B_Check, labels=B2B_Check,autopct='%1.1f%%')\n",
    "plt.show()"
   ]
  },
  {
   "cell_type": "code",
   "execution_count": null,
   "id": "ee7b51c4-1b12-4500-81e0-9fe73e2c6dd2",
   "metadata": {},
   "outputs": [],
   "source": [
    "B2B_Check=df['B2B'].value_counts()\n",
    "plt.pie(B2B_Check, labels=B2B_Check.index,autopct='%1.1f%%')\n",
    "plt.show()"
   ]
  },
  {
   "cell_type": "code",
   "execution_count": null,
   "id": "1cb0b3e5-ad76-499e-9b23-7234b51329db",
   "metadata": {},
   "outputs": [],
   "source": [
    "a1=df['Fulfilment'].value_counts()\n",
    "fig, ax=plt.subplots()\n",
    "ax.pie(a1,labels=a1.index,autopct='%1.1f%%',radius=0.7,wedgeprops=dict(width=0.6))\n",
    "ax.set(aspect=\"equal\")\n",
    "plt.show()"
   ]
  },
  {
   "cell_type": "code",
   "execution_count": null,
   "id": "2083d4a4-734a-440b-ad9d-c8804c998084",
   "metadata": {},
   "outputs": [],
   "source": [
    "x_data=df['Category']\n",
    "y_data=df['Size']\n",
    "plt.scatter(x_data,y_data)\n",
    "plt.xlabel('Category')\n",
    "plt.ylabel('Size')\n",
    "plt.title('Scatter Plot')\n",
    "plt.show()"
   ]
  },
  {
   "cell_type": "code",
   "execution_count": null,
   "id": "be5d3392-76fe-4bfc-8d6e-9921a03708bf",
   "metadata": {},
   "outputs": [],
   "source": [
    "plt.figure(figsize=(12, 6))\n",
    "sns.countplot(data=df, x='ship-state')\n",
    "plt.xlabel('ship-state')\n",
    "plt.ylabel('count')\n",
    "plt.title('Distribution of State')\n",
    "plt.xticks(rotation=90)\n",
    "plt.show()\n"
   ]
  },
  {
   "cell_type": "code",
   "execution_count": null,
   "id": "1f0cda5d-9869-4742-91ce-1eeef8216a9a",
   "metadata": {},
   "outputs": [],
   "source": []
  },
  {
   "cell_type": "code",
   "execution_count": null,
   "id": "e61a6de9-617f-4e05-a070-3a1c09ef6d34",
   "metadata": {},
   "outputs": [],
   "source": [
    "# top_10_States \n",
    "top_10_state = df['ship-state'].value_counts().head(10)\n",
    "# Plot count of cities by state\n",
    "plt.figure(figsize=(12, 6))\n",
    "sns.countplot(data=df[df['ship-state'].isin(top_10_state.index)], x='ship-state')\n",
    "plt.xlabel('ship-state')\n",
    "plt.ylabel('count')\n",
    "plt.title('Distribution of  State')\n",
    "plt.xticks(rotation=45)\n",
    "plt.show()"
   ]
  },
  {
   "cell_type": "code",
   "execution_count": null,
   "id": "4dfd0e14-2cc0-4340-a6a7-62867202aa37",
   "metadata": {},
   "outputs": [],
   "source": [
    "top_10_state=df['ship-state'].value_counts().head(10)\n",
    "plt.figure(figsize=(12,6))\n",
    "sns.countplot(data=df[df['ship-state'].isin(top_10_state.index)],x='ship-state')\n",
    "plt.xlabel('ship-state')\n",
    "plt.ylabel('count')\n",
    "plt.title('Distribution of state')\n",
    "plt.xticks(rotation=45)\n",
    "plt.show()"
   ]
  },
  {
   "cell_type": "code",
   "execution_count": null,
   "id": "14f11ee5-7334-431d-928a-84966579f25c",
   "metadata": {},
   "outputs": [],
   "source": [
    "#Note: From above Graph you can see that most of the  buyers are Maharashtra state"
   ]
  },
  {
   "cell_type": "code",
   "execution_count": null,
   "id": "ae7e6e3d-f846-48e6-a2f3-1eec092fd2e6",
   "metadata": {},
   "outputs": [],
   "source": [
    "# conclusion"
   ]
  },
  {
   "cell_type": "code",
   "execution_count": null,
   "id": "b993c0bf-945b-401a-ba76-949501669317",
   "metadata": {},
   "outputs": [],
   "source": [
    "#### The data analysis reveals that the business has a significant customer base in Maharashtra state, mainly serves retailers, fulfills orders through \n",
    "Amazon, experiences high demand for T-shirts, and sees M-Size as the preferred choice among buyers."
   ]
  }
 ],
 "metadata": {
  "kernelspec": {
   "display_name": "Python 3 (ipykernel)",
   "language": "python",
   "name": "python3"
  },
  "language_info": {
   "codemirror_mode": {
    "name": "ipython",
    "version": 3
   },
   "file_extension": ".py",
   "mimetype": "text/x-python",
   "name": "python",
   "nbconvert_exporter": "python",
   "pygments_lexer": "ipython3",
   "version": "3.12.1"
  }
 },
 "nbformat": 4,
 "nbformat_minor": 5
}
